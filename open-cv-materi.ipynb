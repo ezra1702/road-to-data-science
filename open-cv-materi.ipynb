{
 "cells": [
  {
   "cell_type": "code",
   "execution_count": 10,
   "metadata": {},
   "outputs": [
    {
     "name": "stdout",
     "output_type": "stream",
     "text": [
      "Plat nomor tidak ditemukan!\n"
     ]
    }
   ],
   "source": [
    "import cv2\n",
    "import pytesseract\n",
    "\n",
    "# Tentukan path ke executable Tesseract (ganti dengan path yang sesuai pada sistem Anda)\n",
    "pytesseract.pytesseract.tesseract_cmd = r'C:\\Program Files\\Tesseract-OCR\\tesseract.exe'\n",
    "\n",
    "# Load image\n",
    "image = cv2.imread('image-open-cv/logo.png')  # Ganti dengan nama file gambar Anda\n",
    "\n",
    "# Convert the image to grayscale\n",
    "gray = cv2.cvtColor(image, cv2.COLOR_BGR2GRAY)\n",
    "\n",
    "# Apply GaussianBlur to reduce noise\n",
    "blurred = cv2.GaussianBlur(gray, (5, 5), 0)\n",
    "\n",
    "# Use Canny edge detection to detect edges\n",
    "edges = cv2.Canny(blurred, 100, 200)\n",
    "\n",
    "# Find contours in the edge-detected image\n",
    "contours, _ = cv2.findContours(edges.copy(), cv2.RETR_EXTERNAL, cv2.CHAIN_APPROX_SIMPLE)\n",
    "\n",
    "# Sort contours by area to find the largest one (potential plate)\n",
    "contours = sorted(contours, key=cv2.contourArea, reverse=True)\n",
    "\n",
    "# Iterate through contours to find the one that resembles a plate\n",
    "plate_contour = None\n",
    "for contour in contours:\n",
    "    # Get the bounding box of the contour\n",
    "    x, y, w, h = cv2.boundingRect(contour)\n",
    "    \n",
    "    # Check aspect ratio of the bounding box (it should be rectangular)\n",
    "    aspect_ratio = w / float(h)\n",
    "    if aspect_ratio > 2 and aspect_ratio < 5:  # Plat nomor biasanya memiliki rasio panjang-lebar seperti ini\n",
    "        plate_contour = contour\n",
    "        break\n",
    "\n",
    "# If a plate contour is found, extract it\n",
    "if plate_contour is not None:\n",
    "    x, y, w, h = cv2.boundingRect(plate_contour)\n",
    "    plate_image = image[y:y+h, x:x+w]\n",
    "\n",
    "    # Convert the plate image to grayscale and apply thresholding\n",
    "    plate_gray = cv2.cvtColor(plate_image, cv2.COLOR_BGR2GRAY)\n",
    "    _, plate_thresh = cv2.threshold(plate_gray, 0, 255, cv2.THRESH_BINARY + cv2.THRESH_OTSU)\n",
    "\n",
    "    # Use Tesseract OCR to read the plate number\n",
    "    plate_text = pytesseract.image_to_string(plate_thresh, config='--psm 8')  # PSM 8 is good for OCR in a block of text\n",
    "\n",
    "    # Display the result\n",
    "    print(\"Detected Plate Number: \", plate_text)\n",
    "\n",
    "    # Show the detected plate image (optional)\n",
    "    cv2.imshow(\"Detected Plate\", plate_image)\n",
    "    cv2.waitKey(0)\n",
    "\n",
    "else:\n",
    "    print(\"Plat nomor tidak ditemukan!\")\n",
    "\n",
    "# Close all OpenCV windows\n",
    "cv2.destroyAllWindows()\n"
   ]
  }
 ],
 "metadata": {
  "kernelspec": {
   "display_name": "base",
   "language": "python",
   "name": "python3"
  },
  "language_info": {
   "codemirror_mode": {
    "name": "ipython",
    "version": 3
   },
   "file_extension": ".py",
   "mimetype": "text/x-python",
   "name": "python",
   "nbconvert_exporter": "python",
   "pygments_lexer": "ipython3",
   "version": "3.12.3"
  }
 },
 "nbformat": 4,
 "nbformat_minor": 2
}
