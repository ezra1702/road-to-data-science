{
 "cells": [
  {
   "cell_type": "markdown",
   "metadata": {},
   "source": [
    "Mengecek Konsistensi Tipe Data"
   ]
  },
  {
   "cell_type": "code",
   "execution_count": 3,
   "metadata": {},
   "outputs": [
    {
     "name": "stdout",
     "output_type": "stream",
     "text": [
      "Nama      True\n",
      "Usia      True\n",
      "Gaji      True\n",
      "Status    True\n",
      "dtype: bool\n"
     ]
    }
   ],
   "source": [
    "import pandas as pd\n",
    "datasdata1 = {\n",
    "    'Nama': ['Ali', 'Budi', 'Citra', 'Dita'],\n",
    "    'Usia': [23, 25, 22, 24],\n",
    "    'Gaji': [5000000, 6000000, 4500000, 5500000],\n",
    "    'Status': ['Single', 'Married', 'Single', 'Married']\n",
    "}\n",
    "datasdata2 = {\n",
    "    'Nama': ['Eka', 'Fajar', 'Gita', 'Hadi'],\n",
    "    'Usia': [26, 27, 24, 28],\n",
    "    'Gaji': [5800000, 6200000, 4900000, 7000000],\n",
    "    'Status': ['Single', 'Single', 'Married', 'Married']\n",
    "}\n",
    "#Buat DataFrame untuk kedua dataset.\n",
    "df1 = pd.DataFrame(datasdata1)\n",
    "df2 = pd.DataFrame(datasdata2)\n",
    "\n",
    "#Periksa apakah kedua DataFrame memiliki tipe data kolom yang sama.\n",
    "print(df1.dtypes == df2.dtypes)\n",
    "\n"
   ]
  },
  {
   "cell_type": "code",
   "execution_count": 8,
   "metadata": {},
   "outputs": [
    {
     "name": "stdout",
     "output_type": "stream",
     "text": [
      "Kolom Hari: Tipe data -> [<class 'str'>, <class 'str'>, <class 'str'>, <class 'str'>, <class 'str'>]\n",
      "Kolom Langkah: Tipe data -> [<class 'int'>, <class 'int'>, <class 'int'>, <class 'int'>, <class 'int'>]\n",
      "Kolom Kalori Terbakar: Tipe data -> [<class 'int'>, <class 'int'>, <class 'int'>, <class 'int'>, <class 'int'>]\n",
      "Kolom Jam Tidur: Tipe data -> [<class 'int'>, <class 'int'>, <class 'int'>, <class 'int'>, <class 'int'>]\n",
      "Kolom Produktivitas (%): Tipe data -> [<class 'int'>, <class 'int'>, <class 'int'>, <class 'int'>, <class 'int'>]\n",
      "     Hari  Langkah  Kalori Terbakar  Jam Tidur  Produktivitas (%)\n",
      "0   Senin     4000              200          6                 70\n",
      "1  Selasa     7500              350          7                 80\n",
      "2    Rabu     6000              300          8                 75\n",
      "3   Kamis     8000              400          6                 85\n",
      "4   Jumat     5000              250          5                 65\n"
     ]
    }
   ],
   "source": [
    "#Validasi Data\n",
    "import pandas as pd\n",
    "data = {\n",
    "    'Hari': ['Senin', 'Selasa', 'Rabu', 'Kamis', 'Jumat'],\n",
    "    'Langkah': [4000, 7500, 6000, '8000', 5000],\n",
    "    'Kalori Terbakar': [200, 350, 300, 400, '250'],\n",
    "    'Jam Tidur': [6, 7, 8, 6, 5],\n",
    "    'Produktivitas (%)': [70, 80, 75, 85, 65]\n",
    "}\n",
    "data_aktivitas = pd.DataFrame(data)\n",
    "\n",
    "#Periksa Tipe Data pada Setiap Kolom\n",
    "for key in ['Langkah', 'Kalori Terbakar', 'Jam Tidur', 'Produktivitas (%)']:\n",
    "    data_aktivitas[key] = [int(x) if isinstance(x, str) else x for x in data_aktivitas[key]]\n",
    "\n",
    "# Periksa tipe data\n",
    "for key in data_aktivitas.keys():\n",
    "    print(f\"Kolom {key}: Tipe data -> {[type(v) for v in data_aktivitas[key]]}\")\n",
    "\n",
    "# Hasil Akhir prediksi\n",
    "print(data_aktivitas)"
   ]
  },
  {
   "cell_type": "markdown",
   "metadata": {},
   "source": [
    "Pengelompokan Data Berdasarkan Tipe"
   ]
  },
  {
   "cell_type": "code",
   "execution_count": 21,
   "metadata": {},
   "outputs": [
    {
     "name": "stdout",
     "output_type": "stream",
     "text": [
      "{'Usia': [23, 25, 22], 'Gaji': [5000000, 6000000, 4500000], 'Punya Mobil': [True, False, True]}\n",
      "{'Nama': ['Ali', 'Budi', 'Citra']}\n",
      "   Usia     Gaji  Punya Mobil\n",
      "0    23  5000000         True\n",
      "1    25  6000000        False\n",
      "2    22  4500000         True\n",
      "\n",
      "\n",
      "    Nama\n",
      "0    Ali\n",
      "1   Budi\n",
      "2  Citra\n"
     ]
    }
   ],
   "source": [
    "data_mixed = {\n",
    "    'Nama': ['Ali', 'Budi', 'Citra'],\n",
    "    'Usia': [23, 25, 22],\n",
    "    'Gaji': [5000000, 6000000, 4500000],\n",
    "    'Punya Mobil': [True, False, True]\n",
    "}\n",
    "numerik = {}\n",
    "non_numerik = {}\n",
    "#Kelompokkan kolom dengan tipe data numerik.\n",
    "for  key in data_mixed.keys():\n",
    "    if isinstance(data_mixed[key][0], int):\n",
    "        numerik[key] = data_mixed[key]\n",
    "print(numerik)\n",
    "\n",
    "for key in data_mixed.keys():\n",
    "    if not isinstance(data_mixed[key][0], int):\n",
    "        non_numerik[key] = data_mixed[key]\n",
    "print(non_numerik)\n",
    "\n",
    "df_numerik = pd.DataFrame(numerik)\n",
    "df_non_numerik = pd.DataFrame(non_numerik)\n",
    "print(df_numerik)\n",
    "print(\"\\n\")\n",
    "print(df_non_numerik)\n",
    "\n"
   ]
  }
 ],
 "metadata": {
  "kernelspec": {
   "display_name": "base",
   "language": "python",
   "name": "python3"
  },
  "language_info": {
   "codemirror_mode": {
    "name": "ipython",
    "version": 3
   },
   "file_extension": ".py",
   "mimetype": "text/x-python",
   "name": "python",
   "nbconvert_exporter": "python",
   "pygments_lexer": "ipython3",
   "version": "3.12.3"
  }
 },
 "nbformat": 4,
 "nbformat_minor": 2
}
