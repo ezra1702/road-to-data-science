{
 "cells": [
  {
   "cell_type": "code",
   "execution_count": 29,
   "metadata": {},
   "outputs": [
    {
     "name": "stdout",
     "output_type": "stream",
     "text": [
      "full text is Computer Engineering\n",
      "Sum of i in a text variabel a is 3\n",
      "capitalize text is Computer engineering\n",
      "slice text index 0 to end with jump 2 3 digits is CpeEien\n",
      "title text is Computer Engineering\n",
      "replace text is Industrial Engineering\n",
      "swapcase text is cOMPUTER eNGINEERING\n",
      "isalnum text is False\n",
      "split text is ['Computer', 'Engineering']\n",
      "join text is Computer Engineering\n",
      "It is True that 10,000,000,000 is equal to 10.52123, the integer can be written as 1.000000e+10, the float can be written as 10.52, the percentage is 21.40%\n",
      "['Police', 'Army', 'Coast Guard', 'Air Force', 'Marine']\n",
      "Police,Army,Coast Guard,Air Force,Marine\n"
     ]
    }
   ],
   "source": [
    "#Tipe Data dan Eksploreasi\n",
    "#STRING\n",
    "text = \"Computer Engineering\"\n",
    "count = text.count(\"e\")\n",
    "capitalize = text.capitalize()\n",
    "slice = text[0::3]\n",
    "title = text.title()\n",
    "replace = text.replace(\"Computer\", \"Industrial\")\n",
    "swapcase = text.swapcase()\n",
    "num = text.isalnum()\n",
    "splitt = text.split(\" \")\n",
    "joinn = \" \".join(splitt)\n",
    "print(\"full text is\", text)\n",
    "print(\"Sum of i in a text variabel a is\", b)\n",
    "print(\"capitalize text is\", capitalize)\n",
    "print(\"slice text index 0 to end with jump 2 3 digits is\", slice)\n",
    "print(\"title text is\", title)\n",
    "print(\"replace text is\", replace)\n",
    "print(\"swapcase text is\", swapcase)\n",
    "print(\"isalnum text is\", num)\n",
    "print(\"split text is\", split)\n",
    "print(\"join text is\", joinn)\n",
    "\n",
    "#INTEGER, FLOAT, BOOLEAN\n",
    "integer = 10000000000\n",
    "floatt = 10.52123\n",
    "persen = 0.214\n",
    "boolean = True\n",
    "ket = f\"It is {boolean} that {integer:,} is equal to {floatt}, the integer can be written as {integer:e}, the float can be written as {floatt:.2f}, the percentage is {persen:.2%}\"\n",
    "print(ket)\n",
    "\n",
    "#LIST\n",
    "lister = [\"Police\", \"Army\", \"Navy\", \"Air Force\"]\n",
    "lister.append(\"Marine\")\n",
    "lister.remove(\"Navy\")\n",
    "lister.insert(2, \"Coast Guard\")\n",
    "print(lister)\n",
    "joinnn = \",\".join(lister)\n",
    "print(joinnn)"
   ]
  },
  {
   "cell_type": "code",
   "execution_count": 12,
   "metadata": {},
   "outputs": [
    {
     "name": "stdout",
     "output_type": "stream",
     "text": [
      "A\n",
      "ini adalah iterasi ke- 0\n",
      "ini adalah iterasi ke- 1\n",
      "ini adalah iterasi ke- 2\n",
      "ini adalah iterasi ke- 3\n",
      "ini adalah iterasi ke- 4\n",
      "TEST\n",
      "\n",
      "T\n",
      "E\n",
      "S\n",
      "T\n",
      "0\n",
      "1\n",
      "2\n",
      "3\n",
      "4\n",
      "\n",
      "0\n",
      "1\n",
      "2\n",
      "3\n",
      "4\n",
      "6\n",
      "7\n",
      "8\n",
      "9\n",
      "Ganjil:  [1, 3, 5, 7, 9, 11]\n",
      "Genap:  [2, 4, 6, 8, 10, 12]\n"
     ]
    }
   ],
   "source": [
    "#Struktur Kendali\n",
    "#IF ELSE\n",
    "\n",
    "nilai = 89\n",
    "if nilai > 80:\n",
    "    print(\"A\")\n",
    "else :\n",
    "    print(\"B+\")\n",
    "\n",
    "#While\n",
    "i = 0\n",
    "while i < 5 :\n",
    "    print(\"ini adalah iterasi ke-\", i)\n",
    "    i += 1\n",
    "#for\n",
    "list = [\"T\", \"E\", \"S\", \"T\"]\n",
    "join = \"\".join(list)\n",
    "for x in list:\n",
    "    print(x, end=\"\")\n",
    "print(\"\")\n",
    "print(\"\")\n",
    "for i in join:\n",
    "    print(i)\n",
    "#break and continue\n",
    "for i in range(10):\n",
    "    if i == 5:\n",
    "        break\n",
    "    print(i)\n",
    "print(\"\")\n",
    "for i in range(10):\n",
    "    if i == 5:\n",
    "        continue\n",
    "    print(i)\n",
    "\n",
    "#Studi kasus pengecekan number\n",
    "num = int(input(\"Masukkan angka pengecekan: \"))\n",
    "ganjil = []\n",
    "genap = []\n",
    "for i in range(1,num+1): #start,stop,step\n",
    "    if i % 2 == 0:\n",
    "        genap.append(i)\n",
    "    else:\n",
    "        ganjil.append(i)\n",
    "print(\"Ganjil: \", ganjil)\n",
    "print(\"Genap: \", genap)\n"
   ]
  },
  {
   "cell_type": "code",
   "execution_count": 22,
   "metadata": {},
   "outputs": [
    {
     "name": "stdout",
     "output_type": "stream",
     "text": [
      "Rata - rata dari [3, 4, 2, 1, 7] adalah 3.4\n"
     ]
    }
   ],
   "source": [
    "#Membuat Fungsi \n",
    "# def penjumlahan(a,b):\n",
    "#     return a + b\n",
    "# a = int(input(\"Masukkan angka pertama: \"))\n",
    "# b = int(input(\"Masukkan angka kedua: \"))\n",
    "# print(\"Hasil penjumlahan dari\", a, \"dan\", b, \"adalah\", penjumlahan(a,b)) \n",
    "\n",
    "#Membuat rata - rata penjuamlahan \n",
    "i = 0\n",
    "ars = []\n",
    "pertanyaan = int(input(\"Berapa kali ingin melakukan rata: \"))\n",
    "for i in range(pertanyaan):\n",
    "    angka = int(input(f\"Masukkan angka ke-{i+1}: \"))\n",
    "    ars.append(angka)\n",
    "\n",
    "\n",
    "\n",
    "def avarage(ars):\n",
    "    return sum(ars)/len(ars)\n",
    "print(\"Rata - rata dari\", ars, \"adalah\", avarage(ars))"
   ]
  },
  {
   "cell_type": "markdown",
   "metadata": {},
   "source": [
    "LATIHAN STUDI KASUS"
   ]
  },
  {
   "cell_type": "code",
   "execution_count": 23,
   "metadata": {},
   "outputs": [
    {
     "name": "stdout",
     "output_type": "stream",
     "text": [
      "Pilih operasi matematika\n",
      "1. Penjumlahan\n",
      "2. Pengurangan\n",
      "3. Perkalian\n",
      "4. Pembagian\n",
      "5. Pangkat\n",
      "6. GCD\n",
      "7. LCM\n",
      "8. Faktorial\n",
      "Hasil pengurangan dari 12 dan 23 adalah -11\n"
     ]
    }
   ],
   "source": [
    "#Studi kasus operasi matematika\n",
    "def penjumlahan(a,b):\n",
    "    return a + b\n",
    "def pengurangan(a,b):   \n",
    "    return a - b    \n",
    "def perkalian(a,b):\n",
    "    return a * b\n",
    "def pembagian(a,b):\n",
    "    return a / b\n",
    "def pangkat(a,b):       \n",
    "    return a ** b   \n",
    "def gcd(a,b):\n",
    "    while b != 0:\n",
    "        sisa = a % b\n",
    "        a = b\n",
    "        b = sisa\n",
    "    return a\n",
    "def lcm(a,b):\n",
    "    return a*b/gcd(a,b)\n",
    "def faktorial(a):\n",
    "    if a == 1:\n",
    "        return 1\n",
    "    else:\n",
    "        return a * faktorial(a-1)\n",
    "print(\"Pilih operasi matematika\")\n",
    "print(\"1. Penjumlahan\")\n",
    "print(\"2. Pengurangan\")\n",
    "print(\"3. Perkalian\")\n",
    "print(\"4. Pembagian\")\n",
    "print(\"5. Pangkat\")\n",
    "print(\"6. GCD\")\n",
    "print(\"7. LCM\")\n",
    "print(\"8. Faktorial\")\n",
    "pilihan = int(input(\"Masukkan pilihan (1/2/3/4/5/6/7/8): \"))\n",
    "if pilihan == 1:\n",
    "    a = int(input(\"Masukkan angka pertama: \"))\n",
    "    b = int(input(\"Masukkan angka kedua: \"))\n",
    "    print(\"Hasil penjumlahan dari\", a, \"dan\", b, \"adalah\", penjumlahan(a,b))\n",
    "elif pilihan == 2:\n",
    "    a = int(input(\"Masukkan angka pertama: \"))\n",
    "    b = int(input(\"Masukkan angka kedua: \"))\n",
    "    print(\"Hasil pengurangan dari\", a, \"dan\", b, \"adalah\", pengurangan(a,b))\n",
    "elif pilihan == 3:\n",
    "    a = int(input(\"Masukkan angka pertama: \"))\n",
    "    b = int(input(\"Masukkan angka kedua: \"))\n",
    "    print(\"Hasil perkalian dari\", a, \"dan\", b, \"adalah\", perkalian(a,b))\n",
    "elif pilihan == 4:\n",
    "    a = int(input(\"Masukkan angka pertama: \"))\n",
    "    b = int(input(\"Masukkan angka kedua: \"))\n",
    "    print(\"Hasil pembagian dari\", a, \"dan\", b, \"adalah\", pembagian(a,b))\n",
    "elif pilihan == 5:\n",
    "    a = int(input(\"Masukkan angka pertama: \"))\n",
    "    b = int(input(\"Masukkan angka kedua: \"))\n",
    "    print(\"Hasil pangkat dari\", a, \"dan\", b, \"adalah\", pangkat(a,b))\n",
    "elif pilihan == 6:\n",
    "    a = int(input(\"Masukkan angka pertama: \"))\n",
    "    b = int(input(\"Masukkan angka kedua: \"))\n",
    "    print(\"Hasil GCD dari\", a, \"dan\", b, \"adalah\", gcd(a,b))\n",
    "elif pilihan == 7: \n",
    "    a = int(input(\"Masukkan angka pertama: \"))\n",
    "    b = int(input(\"Masukkan angka kedua: \"))\n",
    "    print(\"Hasil LCM dari\", a, \"dan\", b, \"adalah\", lcm(a,b))\n",
    "elif pilihan == 8:\n",
    "    a = int(input(\"Masukkan angka pertama: \"))\n",
    "    print(\"Hasil faktorial dari\", a, \"adalah\", faktorial(a))\n",
    "else:\n",
    "    print(\"Input salah\")\n"
   ]
  },
  {
   "cell_type": "code",
   "execution_count": null,
   "metadata": {},
   "outputs": [
    {
     "name": "stdout",
     "output_type": "stream",
     "text": [
      "Ganjil:  [1, 3, 5, 7, 9, 11, 13, 15]\n",
      "Genap:  [4, 6, 8, 10, 12, 14]\n",
      "Prima:  [2, 3, 5, 7, 11, 13]\n"
     ]
    }
   ],
   "source": [
    "#Studi Kasus kedua Pengkondisain pengecekan bilangan prima, ganjil, genap\n",
    "from sympy import isprime\n",
    "\n",
    "loop = int(input(\"Masukkan angka pengecekan: \"))\n",
    "ganjil = []\n",
    "genap = []\n",
    "prima = []\n",
    "\n",
    "def checked(num):\n",
    " for i in range(1,num+1):\n",
    "   if (i % 2 == 0) and (isprime(i) == True) :\n",
    "       prima.append(i)\n",
    "       genap.append\n",
    "   elif (i % 2 != 0) and (isprime(i) == True):\n",
    "        ganjil.append(i)\n",
    "        prima.append(i)\n",
    "   elif i % 2 == 0:\n",
    "        genap.append(i)\n",
    "   else :\n",
    "        ganjil.append(i)\n",
    "   \n",
    "checked(loop)\n",
    "\n",
    "print(\"Ganjil: \", ganjil)\n",
    "print(\"Genap: \", genap)\n",
    "print(\"Prima: \", prima)"
   ]
  },
  {
   "cell_type": "code",
   "execution_count": 4,
   "metadata": {},
   "outputs": [
    {
     "name": "stdout",
     "output_type": "stream",
     "text": [
      "    1\n",
      "   121\n",
      "  12321\n",
      " 1234321\n",
      "123454321\n"
     ]
    }
   ],
   "source": [
    "#Studi kasus ketiga - Segitaga \n",
    "num = 5\n",
    "for i in range(1,num+1): \n",
    "    print(\" \" * (num - i), end=\"\" )\n",
    "    for x in range(1,i+1):\n",
    "         print(x, end=\"\")\n",
    "    for c in range (i-1, 0,-1):\n",
    "          print(c, end=\"\")\n",
    "    print()\n"
   ]
  },
  {
   "cell_type": "code",
   "execution_count": 22,
   "metadata": {},
   "outputs": [
    {
     "name": "stdout",
     "output_type": "stream",
     "text": [
      "Fibonacci dari 5 adalah [0, 1, 1, 2, 3]\n"
     ]
    }
   ],
   "source": [
    "#Studi Kasus Keempat - Fibonacci\n",
    "tanya = int(input(\"Masukkan angka fibonacci: \"))\n",
    "list = []\n",
    "def fibonacci(n):\n",
    "    a = 0\n",
    "    b = 1\n",
    "    for i in range (n):\n",
    "        list.append(a)\n",
    "        a = a + b\n",
    "        b = a - b\n",
    "fibonacci(tanya)\n",
    "print(\"Fibonacci dari\", tanya, \"adalah\", list)\n"
   ]
  },
  {
   "cell_type": "code",
   "execution_count": null,
   "metadata": {},
   "outputs": [
    {
     "name": "stdout",
     "output_type": "stream",
     "text": [
      "Binner dari 5 adalah [1, 0, 1]\n",
      "Desimal dari [1, 0, 1] adalah 5\n"
     ]
    }
   ],
   "source": [
    "#Studi Kasus Kelima - Menentukan angkka binner\n",
    "tanya = int(input(\"Masukkan angka desimal: \"))\n",
    "list =[]\n",
    "def binary(n):\n",
    "   while n > 0:\n",
    "      list.append(n % 2)\n",
    "      n //= 2\n",
    "binary(tanya)\n",
    "list.reverse()\n",
    "print(\"Binner dari\", tanya, \"adalah\", list)\n",
    "def decimal(n):\n",
    " a = 0\n",
    " for i in range(len(n)):\n",
    "         a += list[i] * 2 ** (len(n) - i - 1)\n",
    " return a\n",
    "decimal(list)\n",
    "print(\"Desimal dari\", list, \"adalah\", decimal(list))\n"
   ]
  },
  {
   "cell_type": "code",
   "execution_count": 97,
   "metadata": {},
   "outputs": [
    {
     "name": "stdout",
     "output_type": "stream",
     "text": [
      "153 is an Armstrong number\n"
     ]
    }
   ],
   "source": [
    "#Studi Kasus Keenam - Menentukan bilangan Armstromg\n",
    "def armstrong(n):\n",
    "    num_string = str(n)\n",
    "    num_len = len(num_string)\n",
    "    result = 0\n",
    "    for i in range(num_len):\n",
    "        result += int(num_string[i]) ** num_len\n",
    "    if result == n:\n",
    "        print(n, \"is an Armstrong number\")\n",
    "    else:\n",
    "        print(n, \"is not an Armstrong number\")\n",
    "\n",
    "tanya = int(input(\"Masukkan angka pengecekan: \"))\n",
    "armstrong(tanya)"
   ]
  },
  {
   "cell_type": "code",
   "execution_count": 45,
   "metadata": {},
   "outputs": [
    {
     "name": "stdout",
     "output_type": "stream",
     "text": [
      "cd is not a palindrome\n"
     ]
    }
   ],
   "source": [
    "#Studi Kasus Ketujuh - Menentukan bilangan palindrom\n",
    "def palindrom(n):\n",
    "    text = str(n)\n",
    "    reversed = \"\"\n",
    "    for i in range(len(text)-1,-1,-1):\n",
    "        reversed += text[i]\n",
    "    if text == reversed:\n",
    "        print(n, \"is a palindrome\")\n",
    "    else:\n",
    "        print(n, \"is not a palindrome\")\n",
    "\n",
    "tanya = input(\"Masukkan angka pengecekan: \")\n",
    "palindrom(tanya)"
   ]
  }
 ],
 "metadata": {
  "kernelspec": {
   "display_name": "base",
   "language": "python",
   "name": "python3"
  },
  "language_info": {
   "codemirror_mode": {
    "name": "ipython",
    "version": 3
   },
   "file_extension": ".py",
   "mimetype": "text/x-python",
   "name": "python",
   "nbconvert_exporter": "python",
   "pygments_lexer": "ipython3",
   "version": "3.12.7"
  }
 },
 "nbformat": 4,
 "nbformat_minor": 2
}
